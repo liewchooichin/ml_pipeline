{
 "cells": [
  {
   "cell_type": "code",
   "execution_count": 7,
   "id": "76e8c9d9-f27a-4ed5-aebf-88bee2595e40",
   "metadata": {},
   "outputs": [
    {
     "name": "stdout",
     "output_type": "stream",
     "text": [
      "Libraries imported\n"
     ]
    }
   ],
   "source": [
    "# Regression of examination scores of students\n",
    "# Evaluation of metrics\n",
    "\n",
    "import pandas as pd\n",
    "import numpy as np\n",
    "import matplotlib.pyplot as plt\n",
    "import seaborn as sns\n",
    "from configparser import ConfigParser\n",
    "\n",
    "import warnings\n",
    "warnings.filterwarnings(action='ignore', category=UserWarning)\n",
    "\n",
    "print(\"Libraries imported\")"
   ]
  },
  {
   "cell_type": "code",
   "execution_count": 8,
   "id": "18a4542f-9f23-46b1-a02c-8d15fcb88e57",
   "metadata": {},
   "outputs": [
    {
     "data": {
      "text/plain": [
       "['polynomial', 'sgd', 'svr', 'forest', 'knn']"
      ]
     },
     "execution_count": 8,
     "metadata": {},
     "output_type": "execute_result"
    }
   ],
   "source": [
    "# Read the evaluation scores from output dir\n",
    "# filename\n",
    "filename = \"output_all/prediction_score.conf\"\n",
    "config = ConfigParser(allow_no_value=True)\n",
    "config.read(filename)\n",
    "config.sections()"
   ]
  },
  {
   "cell_type": "code",
   "execution_count": 9,
   "id": "60a369f8-6de4-4efb-bf0b-9505483efa7b",
   "metadata": {},
   "outputs": [
    {
     "name": "stdout",
     "output_type": "stream",
     "text": [
      "<class 'list'>\n",
      "['polynomial', 'sgd', 'svr', 'forest', 'knn']\n"
     ]
    }
   ],
   "source": [
    "# A list to hold the values before converting them to \n",
    "# DataFrame. Using DataFrame made it easier to plot\n",
    "# charts.\n",
    "mean_abs_err = []\n",
    "median_abs_err = []\n",
    "root_mse = []\n",
    "\n",
    "# Model names are in the sections\n",
    "model_name_list = config.sections()\n",
    "print(type(model_name_list))\n",
    "print(model_name_list)"
   ]
  },
  {
   "cell_type": "code",
   "execution_count": 10,
   "id": "6b3aff21-359d-4050-862b-e0a24550fbd2",
   "metadata": {},
   "outputs": [
    {
     "name": "stdout",
     "output_type": "stream",
     "text": [
      "mean_abs_err \n",
      "[6.679894793695229, 7.576304145786787, 6.214876119363975, 6.020123336579033, 6.2412482032735195]\n",
      "median_abs_err \n",
      "[5.28125, 6.248588418494222, 4.582313589462245, 4.450000000000003, 4.571428571428569]\n",
      "root_mse \n",
      "[8.674631076103877, 9.558710839887567, 8.411625846686492, 8.227283968176966, 8.429147461598332]\n"
     ]
    }
   ],
   "source": [
    "# Get the score values under each section\n",
    "# Sample of the score file\n",
    "# [polynomial]\n",
    "# mean_abs_err = 6.760388773937033\n",
    "# median_abs_err = 5.34375\n",
    "# mean_sq_err = 77.09386487921815\n",
    "# root_mse = 8.780311206285239\n",
    "\n",
    "for model_name in model_name_list:\n",
    "    mean_abs_err.append(float(config[model_name]['mean_abs_err']))\n",
    "    median_abs_err.append(float(config[model_name]['median_abs_err']))\n",
    "    root_mse.append(float(config[model_name]['root_mse']))\n",
    "\n",
    "print(f\"mean_abs_err \\n{mean_abs_err}\")\n",
    "print(f\"median_abs_err \\n{median_abs_err}\")\n",
    "print(f\"root_mse \\n{root_mse}\")"
   ]
  },
  {
   "cell_type": "code",
   "execution_count": 11,
   "id": "4e694f1f-828a-4a63-a0f8-ae1cfc157c65",
   "metadata": {},
   "outputs": [
    {
     "data": {
      "text/html": [
       "<div>\n",
       "<style scoped>\n",
       "    .dataframe tbody tr th:only-of-type {\n",
       "        vertical-align: middle;\n",
       "    }\n",
       "\n",
       "    .dataframe tbody tr th {\n",
       "        vertical-align: top;\n",
       "    }\n",
       "\n",
       "    .dataframe thead th {\n",
       "        text-align: right;\n",
       "    }\n",
       "</style>\n",
       "<table border=\"1\" class=\"dataframe\">\n",
       "  <thead>\n",
       "    <tr style=\"text-align: right;\">\n",
       "      <th></th>\n",
       "      <th>model_name</th>\n",
       "      <th>mean_abs_err</th>\n",
       "      <th>median_abs_err</th>\n",
       "      <th>root_mse</th>\n",
       "    </tr>\n",
       "  </thead>\n",
       "  <tbody>\n",
       "    <tr>\n",
       "      <th>0</th>\n",
       "      <td>polynomial</td>\n",
       "      <td>6.679895</td>\n",
       "      <td>5.281250</td>\n",
       "      <td>8.674631</td>\n",
       "    </tr>\n",
       "    <tr>\n",
       "      <th>1</th>\n",
       "      <td>sgd</td>\n",
       "      <td>7.576304</td>\n",
       "      <td>6.248588</td>\n",
       "      <td>9.558711</td>\n",
       "    </tr>\n",
       "    <tr>\n",
       "      <th>2</th>\n",
       "      <td>svr</td>\n",
       "      <td>6.214876</td>\n",
       "      <td>4.582314</td>\n",
       "      <td>8.411626</td>\n",
       "    </tr>\n",
       "    <tr>\n",
       "      <th>3</th>\n",
       "      <td>forest</td>\n",
       "      <td>6.020123</td>\n",
       "      <td>4.450000</td>\n",
       "      <td>8.227284</td>\n",
       "    </tr>\n",
       "    <tr>\n",
       "      <th>4</th>\n",
       "      <td>knn</td>\n",
       "      <td>6.241248</td>\n",
       "      <td>4.571429</td>\n",
       "      <td>8.429147</td>\n",
       "    </tr>\n",
       "  </tbody>\n",
       "</table>\n",
       "</div>"
      ],
      "text/plain": [
       "   model_name  mean_abs_err  median_abs_err  root_mse\n",
       "0  polynomial      6.679895        5.281250  8.674631\n",
       "1         sgd      7.576304        6.248588  9.558711\n",
       "2         svr      6.214876        4.582314  8.411626\n",
       "3      forest      6.020123        4.450000  8.227284\n",
       "4         knn      6.241248        4.571429  8.429147"
      ]
     },
     "execution_count": 11,
     "metadata": {},
     "output_type": "execute_result"
    }
   ],
   "source": [
    "# Put the scores into a dataframe\n",
    "\n",
    "score_df = pd.DataFrame()\n",
    "score_df['model_name'] = model_name_list\n",
    "score_df['mean_abs_err'] = mean_abs_err\n",
    "score_df['median_abs_err'] = median_abs_err\n",
    "score_df['root_mse'] = root_mse\n",
    "score_df"
   ]
  },
  {
   "cell_type": "code",
   "execution_count": 12,
   "id": "86c562d7-c026-4de0-bc47-0dd91eff5f4f",
   "metadata": {},
   "outputs": [
    {
     "data": {
      "image/png": "[encoded data removed]",
      "text/plain": [
       "<Figure size 1200x400 with 3 Axes>"
      ]
     },
     "metadata": {},
     "output_type": "display_data"
    }
   ],
   "source": [
    "# Plot a bar chart to see the score of each\n",
    "\n",
    "fig, axes = plt.subplots(nrows=1, ncols=3, figsize=(12, 4))\n",
    "\n",
    "sns.pointplot(data=score_df, x=\"model_name\", y=\"mean_abs_err\", ax=axes[0]);\n",
    "axes[0].set_title(\"Mean absolute error\");\n",
    "\n",
    "sns.pointplot(data=score_df, x=\"model_name\", y=\"median_abs_err\", ax=axes[1]);\n",
    "axes[1].set_title(\"Median absolute error\");\n",
    "\n",
    "sns.pointplot(data=score_df, x=\"model_name\", y=\"root_mse\", ax=axes[2]);\n",
    "axes[2].set_title(\"Root mean squared error\");\n"
   ]
  },
  {
   "cell_type": "markdown",
   "id": "3eb810ad-82ef-4219-a8f7-e222f2bc437c",
   "metadata": {},
   "source": [
    "Observations\n",
    "\n",
    "Linear models like polynomial linear regression and stochastic gradient descent produces the errors more than the other three algorithms.\n",
    "\n",
    "Notice that random forest has the least errors for all three metrics. It would be chosen as the algorithms for the problem.\n",
    "\n",
    "The table below ranks the algorithms by each of the error metrics.\n",
    "\n",
    "With random forest as the regressor, the predicted scores will be \n",
    "- +/- 6.0 marks if mean absolute error is used. This is affected by extreme values.\n",
    "- +/- 4.5 marks if median absolute error is used. This is the best choice of error margins because it is not affected by extreme values.\n",
    "- +/- 8.2 marks if root mean squared error is used. This is affected by extreme values (because of the mean) and amplify errors (because of the square). \n",
    "\n",
    "Therefore with random forest, the predicted score will be likely to be within +/- 4.5 points of the real score."
   ]
  },
  {
   "cell_type": "code",
   "execution_count": 17,
   "id": "3816d71f-3d7c-406a-a28c-e384e27d8dbd",
   "metadata": {},
   "outputs": [
    {
     "data": {
      "text/html": [
       "<div>\n",
       "<style scoped>\n",
       "    .dataframe tbody tr th:only-of-type {\n",
       "        vertical-align: middle;\n",
       "    }\n",
       "\n",
       "    .dataframe tbody tr th {\n",
       "        vertical-align: top;\n",
       "    }\n",
       "\n",
       "    .dataframe thead th {\n",
       "        text-align: right;\n",
       "    }\n",
       "</style>\n",
       "<table border=\"1\" class=\"dataframe\">\n",
       "  <thead>\n",
       "    <tr style=\"text-align: right;\">\n",
       "      <th></th>\n",
       "      <th>model_name</th>\n",
       "      <th>mean_abs_err</th>\n",
       "    </tr>\n",
       "  </thead>\n",
       "  <tbody>\n",
       "    <tr>\n",
       "      <th>0</th>\n",
       "      <td>forest</td>\n",
       "      <td>6.020123</td>\n",
       "    </tr>\n",
       "    <tr>\n",
       "      <th>1</th>\n",
       "      <td>svr</td>\n",
       "      <td>6.214876</td>\n",
       "    </tr>\n",
       "    <tr>\n",
       "      <th>2</th>\n",
       "      <td>knn</td>\n",
       "      <td>6.241248</td>\n",
       "    </tr>\n",
       "    <tr>\n",
       "      <th>3</th>\n",
       "      <td>polynomial</td>\n",
       "      <td>6.679895</td>\n",
       "    </tr>\n",
       "    <tr>\n",
       "      <th>4</th>\n",
       "      <td>sgd</td>\n",
       "      <td>7.576304</td>\n",
       "    </tr>\n",
       "  </tbody>\n",
       "</table>\n",
       "</div>"
      ],
      "text/plain": [
       "   model_name  mean_abs_err\n",
       "0      forest      6.020123\n",
       "1         svr      6.214876\n",
       "2         knn      6.241248\n",
       "3  polynomial      6.679895\n",
       "4         sgd      7.576304"
      ]
     },
     "execution_count": 17,
     "metadata": {},
     "output_type": "execute_result"
    }
   ],
   "source": [
    "# Sort by mean absolute error\n",
    "score_df[['model_name', 'mean_abs_err']].sort_values(by='mean_abs_err', ascending=True, ignore_index=True)"
   ]
  },
  {
   "cell_type": "code",
   "execution_count": 15,
   "id": "31fe2b6a-2957-4bd3-b979-5a5051a900df",
   "metadata": {},
   "outputs": [
    {
     "data": {
      "text/html": [
       "<div>\n",
       "<style scoped>\n",
       "    .dataframe tbody tr th:only-of-type {\n",
       "        vertical-align: middle;\n",
       "    }\n",
       "\n",
       "    .dataframe tbody tr th {\n",
       "        vertical-align: top;\n",
       "    }\n",
       "\n",
       "    .dataframe thead th {\n",
       "        text-align: right;\n",
       "    }\n",
       "</style>\n",
       "<table border=\"1\" class=\"dataframe\">\n",
       "  <thead>\n",
       "    <tr style=\"text-align: right;\">\n",
       "      <th></th>\n",
       "      <th>model_name</th>\n",
       "      <th>median_abs_err</th>\n",
       "    </tr>\n",
       "  </thead>\n",
       "  <tbody>\n",
       "    <tr>\n",
       "      <th>0</th>\n",
       "      <td>forest</td>\n",
       "      <td>4.450000</td>\n",
       "    </tr>\n",
       "    <tr>\n",
       "      <th>1</th>\n",
       "      <td>knn</td>\n",
       "      <td>4.571429</td>\n",
       "    </tr>\n",
       "    <tr>\n",
       "      <th>2</th>\n",
       "      <td>svr</td>\n",
       "      <td>4.582314</td>\n",
       "    </tr>\n",
       "    <tr>\n",
       "      <th>3</th>\n",
       "      <td>polynomial</td>\n",
       "      <td>5.281250</td>\n",
       "    </tr>\n",
       "    <tr>\n",
       "      <th>4</th>\n",
       "      <td>sgd</td>\n",
       "      <td>6.248588</td>\n",
       "    </tr>\n",
       "  </tbody>\n",
       "</table>\n",
       "</div>"
      ],
      "text/plain": [
       "   model_name  median_abs_err\n",
       "0      forest        4.450000\n",
       "1         knn        4.571429\n",
       "2         svr        4.582314\n",
       "3  polynomial        5.281250\n",
       "4         sgd        6.248588"
      ]
     },
     "execution_count": 15,
     "metadata": {},
     "output_type": "execute_result"
    }
   ],
   "source": [
    "# Sort by median absolute error\n",
    "score_df[['model_name', 'median_abs_err']].sort_values(by='median_abs_err', ascending=True, ignore_index=True)"
   ]
  },
  {
   "cell_type": "code",
   "execution_count": 16,
   "id": "782e8bb7-35e3-4a95-820b-9b016b6f7d3d",
   "metadata": {},
   "outputs": [
    {
     "data": {
      "text/html": [
       "<div>\n",
       "<style scoped>\n",
       "    .dataframe tbody tr th:only-of-type {\n",
       "        vertical-align: middle;\n",
       "    }\n",
       "\n",
       "    .dataframe tbody tr th {\n",
       "        vertical-align: top;\n",
       "    }\n",
       "\n",
       "    .dataframe thead th {\n",
       "        text-align: right;\n",
       "    }\n",
       "</style>\n",
       "<table border=\"1\" class=\"dataframe\">\n",
       "  <thead>\n",
       "    <tr style=\"text-align: right;\">\n",
       "      <th></th>\n",
       "      <th>model_name</th>\n",
       "      <th>root_mse</th>\n",
       "    </tr>\n",
       "  </thead>\n",
       "  <tbody>\n",
       "    <tr>\n",
       "      <th>0</th>\n",
       "      <td>forest</td>\n",
       "      <td>8.227284</td>\n",
       "    </tr>\n",
       "    <tr>\n",
       "      <th>1</th>\n",
       "      <td>svr</td>\n",
       "      <td>8.411626</td>\n",
       "    </tr>\n",
       "    <tr>\n",
       "      <th>2</th>\n",
       "      <td>knn</td>\n",
       "      <td>8.429147</td>\n",
       "    </tr>\n",
       "    <tr>\n",
       "      <th>3</th>\n",
       "      <td>polynomial</td>\n",
       "      <td>8.674631</td>\n",
       "    </tr>\n",
       "    <tr>\n",
       "      <th>4</th>\n",
       "      <td>sgd</td>\n",
       "      <td>9.558711</td>\n",
       "    </tr>\n",
       "  </tbody>\n",
       "</table>\n",
       "</div>"
      ],
      "text/plain": [
       "   model_name  root_mse\n",
       "0      forest  8.227284\n",
       "1         svr  8.411626\n",
       "2         knn  8.429147\n",
       "3  polynomial  8.674631\n",
       "4         sgd  9.558711"
      ]
     },
     "execution_count": 16,
     "metadata": {},
     "output_type": "execute_result"
    }
   ],
   "source": [
    "# Sort by root mean squared error\n",
    "score_df[['model_name', 'root_mse']].sort_values(by='root_mse', ascending=True, ignore_index=True)"
   ]
  }
 ],
 "metadata": {
  "kernelspec": {
   "display_name": "Python 3 (ipykernel)",
   "language": "python",
   "name": "python3"
  },
  "language_info": {
   "codemirror_mode": {
    "name": "ipython",
    "version": 3
   },
   "file_extension": ".py",
   "mimetype": "text/x-python",
   "name": "python",
   "nbconvert_exporter": "python",
   "pygments_lexer": "ipython3",
   "version": "3.10.12"
  }
 },
 "nbformat": 4,
 "nbformat_minor": 5
}
